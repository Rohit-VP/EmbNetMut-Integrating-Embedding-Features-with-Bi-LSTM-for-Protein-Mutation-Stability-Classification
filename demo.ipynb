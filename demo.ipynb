{
 "cells": [
  {
   "cell_type": "code",
   "execution_count": 5,
   "metadata": {},
   "outputs": [
    {
     "name": "stderr",
     "output_type": "stream",
     "text": [
      "Some weights of EsmModel were not initialized from the model checkpoint at nmodel and are newly initialized: ['esm.pooler.dense.bias', 'esm.pooler.dense.weight']\n",
      "You should probably TRAIN this model on a down-stream task to be able to use it for predictions and inference.\n"
     ]
    },
    {
     "name": "stdout",
     "output_type": "stream",
     "text": [
      "Using device: cpu\n",
      "[[ 0.01033432  0.42649978  0.29383668 ...  0.8588025   0.07946299\n",
      "  -0.3298539 ]\n",
      " [ 0.07060424 -0.15151554 -0.25000992 ...  0.31884408  0.08618888\n",
      "   0.02217117]\n",
      " [ 0.1535934  -0.29687938  0.11207227 ...  0.02473515  0.1170501\n",
      "   0.2055141 ]\n",
      " ...\n",
      " [ 0.10624892 -0.4869262   0.36693028 ...  0.12577724 -0.09223838\n",
      "   0.30859724]\n",
      " [ 0.0927592  -0.4548666   0.37314674 ...  0.10106964 -0.00621835\n",
      "   0.30683014]\n",
      " [ 0.08724934 -0.16967249  0.3516682  ...  0.19683862 -0.31081042\n",
      "  -0.03457606]]\n"
     ]
    },
    {
     "name": "stderr",
     "output_type": "stream",
     "text": [
      "C:\\Users\\Rohit VP\\AppData\\Roaming\\Python\\Python312\\site-packages\\transformers\\tokenization_utils_base.py:1601: FutureWarning: `clean_up_tokenization_spaces` was not set. It will be set to `True` by default. This behavior will be depracted in transformers v4.45, and will be then set to `False` by default. For more details check this issue: https://github.com/huggingface/transformers/issues/31884\n",
      "  warnings.warn(\n"
     ]
    }
   ],
   "source": [
    "import numpy as np\n",
    "import torch\n",
    "import pandas as pd\n",
    "from transformers import EsmModel, EsmTokenizer\n",
    "\n",
    "device = torch.device(\"cuda\" if torch.cuda.is_available() else \"cpu\")\n",
    "print(f\"Using device: {device}\")\n",
    "\n",
    "original_seq = 'SWIKEKKLL'\n",
    "mutated_seq = 'SWIKAKKLL'\n",
    "\n",
    "model_dir = 'nmodel'  \n",
    "model = EsmModel.from_pretrained(model_dir).to(device)\n",
    "tokenizer = EsmTokenizer.from_pretrained(model_dir)\n",
    "\n",
    "inputs = tokenizer(original_seq, mutated_seq, return_tensors='pt', max_length = 25, padding=True, truncation=True)\n",
    "\n",
    "inputs = {key: value.to(device) for key, value in inputs.items()}\n",
    "\n",
    "try:\n",
    "    with torch.no_grad():\n",
    "        outputs = model(**inputs)\n",
    "        embeddings = outputs.last_hidden_state.squeeze(0).cpu().numpy()\n",
    "except Exception as e:\n",
    "    print(f\"Error processing sequence {e}\")\n",
    "\n",
    "\n",
    "print(embeddings)"
   ]
  },
  {
   "cell_type": "code",
   "execution_count": 6,
   "metadata": {},
   "outputs": [],
   "source": [
    "import torch\n",
    "import torch.nn as nn\n",
    "import torch.optim as optim\n",
    "from torch.utils.data import DataLoader, TensorDataset\n",
    "from sklearn.model_selection import train_test_split\n",
    "from sklearn.metrics import accuracy_score, classification_report\n",
    "import numpy as np\n",
    "import csv\n",
    "\n",
    "class Attention(nn.Module):\n",
    "    def __init__(self, hidden_size):\n",
    "        super(Attention, self).__init__()\n",
    "        self.attention_weights = nn.Parameter(torch.Tensor(hidden_size, 1))\n",
    "        nn.init.xavier_uniform_(self.attention_weights)\n",
    "\n",
    "    def forward(self, lstm_outputs):\n",
    "        attention_scores = torch.matmul(lstm_outputs, self.attention_weights).squeeze(-1) \n",
    "        attention_weights = torch.softmax(attention_scores, dim=1) \n",
    "        weighted_sum = torch.bmm(attention_weights.unsqueeze(1), lstm_outputs).squeeze(1) \n",
    "        return weighted_sum\n",
    "\n",
    "class ComplexLSTM(nn.Module):\n",
    "    def __init__(self):\n",
    "        super(ComplexLSTM, self).__init__()\n",
    "        self.lstm1 = nn.LSTM(input_size=320, hidden_size=256, batch_first=True, bidirectional=True)\n",
    "        self.lstm2 = nn.LSTM(input_size=512, hidden_size=128, batch_first=True, bidirectional=True)  \n",
    "        self.attention = Attention(hidden_size=256)\n",
    "        self.dropout = nn.Dropout(0.7)\n",
    "        self.fc1 = nn.Linear(256, 64) \n",
    "        self.fc2 = nn.Linear(64, 32)\n",
    "        self.fc3 = nn.Linear(32, 2)\n",
    "        self.relu = nn.ReLU()\n",
    "\n",
    "    def forward(self, x):\n",
    "        x, _ = self.lstm1(x)\n",
    "        x, _ = self.lstm2(x)\n",
    "        x = self.attention(x)  \n",
    "        x = self.dropout(x)\n",
    "        x = self.relu(self.fc1(x))\n",
    "        x = self.relu(self.fc2(x))\n",
    "        x = self.fc3(x)\n",
    "        return x\n"
   ]
  },
  {
   "cell_type": "code",
   "execution_count": 7,
   "metadata": {},
   "outputs": [
    {
     "name": "stdout",
     "output_type": "stream",
     "text": [
      "Predictions: 1\n"
     ]
    },
    {
     "name": "stderr",
     "output_type": "stream",
     "text": [
      "C:\\Users\\Rohit VP\\AppData\\Local\\Temp\\ipykernel_12580\\1684004029.py:6: FutureWarning: You are using `torch.load` with `weights_only=False` (the current default value), which uses the default pickle module implicitly. It is possible to construct malicious pickle data which will execute arbitrary code during unpickling (See https://github.com/pytorch/pytorch/blob/main/SECURITY.md#untrusted-models for more details). In a future release, the default value for `weights_only` will be flipped to `True`. This limits the functions that could be executed during unpickling. Arbitrary objects will no longer be allowed to be loaded via this mode unless they are explicitly allowlisted by the user via `torch.serialization.add_safe_globals`. We recommend you start setting `weights_only=True` for any use case where you don't have full control of the loaded file. Please open an issue on GitHub for any issues related to this experimental feature.\n",
      "  model.load_state_dict(torch.load(model_path, map_location=torch.device('cpu')))\n"
     ]
    }
   ],
   "source": [
    "import torch\n",
    "import numpy as np\n",
    "\n",
    "model_path = \"best_model_nine.pt\"  \n",
    "model = ComplexLSTM()\n",
    "model.load_state_dict(torch.load(model_path, map_location=torch.device('cpu'))) \n",
    "model.eval() \n",
    "embedding_tensor = torch.tensor(embeddings, dtype=torch.float32) \n",
    "if len(embedding_tensor.shape) == 2:  \n",
    "    embedding_tensor = embedding_tensor.unsqueeze(0)\n",
    "\n",
    "with torch.no_grad():\n",
    "    output = model(embedding_tensor) \n",
    "    predictions = torch.argmax(output, dim=1)  \n",
    "\n",
    "print(\"Predictions:\", predictions.item()) \n",
    "\n",
    "#Forward:1 and Reverse:0"
   ]
  }
 ],
 "metadata": {
  "kernelspec": {
   "display_name": "Python 3",
   "language": "python",
   "name": "python3"
  },
  "language_info": {
   "codemirror_mode": {
    "name": "ipython",
    "version": 3
   },
   "file_extension": ".py",
   "mimetype": "text/x-python",
   "name": "python",
   "nbconvert_exporter": "python",
   "pygments_lexer": "ipython3",
   "version": "3.12.3"
  }
 },
 "nbformat": 4,
 "nbformat_minor": 2
}
